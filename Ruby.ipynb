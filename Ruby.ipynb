from chatterbot import ChatBot
from chatterbot.trainers import ListTrainer
from chatterbot.trainers import ChatterBotCorpusTrainer


bot = ChatBot('Ruby')
trainer = ChatterBotCorpusTrainer(bot)
trainer.train("chatterbot.corpus.english")
bot.get_response("Hello, how are you today?")

import datetime
now = datetime.datetime.now()
hour = now.hour

if hour < 12:
    greeting = "Good morning"
elif hour < 18:
    greeting = "Good afternoon"
else:
    greeting = "Good night"

    from threading import Timer
import time

name=input("Please Enter Your Name: ")
print('Ruby: ' + str(greeting) + " " + str(name))
print('\tHope we will have a good time together :) \n\t **To start a conversation with me just type "Heyy" \n\t **To exit just type "bye" ')
print("\n")
print("maximun coversation can be of 5 minutes...sorry!!")
print("\n")
start=time.time()                       #time limit for whole conversation
PERIOD_OF_TIME=300                        

timeout = 60                          #time limit for reply
while True:
    t = Timer(timeout, print, ['Ruby is waiting for conversation'])
    t.start()
    message=input('\t\t\tYou:')
    t.cancel()
    if time.time()>start+PERIOD_OF_TIME:
        print("times up!!")
        break
    if message.strip()=='Heyy':
        print('Ruby:hello')
    elif message.strip()=='Bye':
        print('Ruby: Bye')
        break    
    else:
        reply=bot.get_response(message)
        print('Ruby:',reply)
        


